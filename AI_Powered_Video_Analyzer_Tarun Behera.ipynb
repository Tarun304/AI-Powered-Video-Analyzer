{
  "nbformat": 4,
  "nbformat_minor": 0,
  "metadata": {
    "colab": {
      "provenance": []
    },
    "kernelspec": {
      "name": "python3",
      "display_name": "Python 3"
    },
    "language_info": {
      "name": "python"
    }
  },
  "cells": [
    {
      "cell_type": "markdown",
      "source": [
        "**Installations:**"
      ],
      "metadata": {
        "id": "AvAF7veK2tRR"
      }
    },
    {
      "cell_type": "code",
      "execution_count": 1,
      "metadata": {
        "colab": {
          "base_uri": "https://localhost:8080/"
        },
        "id": "dAZcihAggDqO",
        "outputId": "6e5219a3-394f-406d-9b0f-625f490a5729"
      },
      "outputs": [
        {
          "output_type": "stream",
          "name": "stdout",
          "text": [
            "Requirement already satisfied: phidata==2.7.10 in /usr/local/lib/python3.11/dist-packages (from -r /content/requirements.txt (line 1)) (2.7.10)\n",
            "Collecting protobuf==5.29.3 (from -r /content/requirements.txt (line 2))\n",
            "  Downloading protobuf-5.29.3-cp38-abi3-manylinux2014_x86_64.whl.metadata (592 bytes)\n",
            "Requirement already satisfied: python-dotenv==1.0.1 in /usr/local/lib/python3.11/dist-packages (from -r /content/requirements.txt (line 3)) (1.0.1)\n",
            "Requirement already satisfied: streamlit==1.42.0 in /usr/local/lib/python3.11/dist-packages (from -r /content/requirements.txt (line 4)) (1.42.0)\n",
            "Requirement already satisfied: docstring-parser in /usr/local/lib/python3.11/dist-packages (from phidata==2.7.10->-r /content/requirements.txt (line 1)) (0.16)\n",
            "Requirement already satisfied: gitpython in /usr/local/lib/python3.11/dist-packages (from phidata==2.7.10->-r /content/requirements.txt (line 1)) (3.1.44)\n",
            "Requirement already satisfied: httpx in /usr/local/lib/python3.11/dist-packages (from phidata==2.7.10->-r /content/requirements.txt (line 1)) (0.28.1)\n",
            "Requirement already satisfied: pydantic in /usr/local/lib/python3.11/dist-packages (from phidata==2.7.10->-r /content/requirements.txt (line 1)) (2.10.6)\n",
            "Requirement already satisfied: pydantic-settings in /usr/local/lib/python3.11/dist-packages (from phidata==2.7.10->-r /content/requirements.txt (line 1)) (2.7.1)\n",
            "Requirement already satisfied: pyyaml in /usr/local/lib/python3.11/dist-packages (from phidata==2.7.10->-r /content/requirements.txt (line 1)) (6.0.2)\n",
            "Requirement already satisfied: rich in /usr/local/lib/python3.11/dist-packages (from phidata==2.7.10->-r /content/requirements.txt (line 1)) (13.9.4)\n",
            "Requirement already satisfied: tomli in /usr/local/lib/python3.11/dist-packages (from phidata==2.7.10->-r /content/requirements.txt (line 1)) (2.2.1)\n",
            "Requirement already satisfied: typer in /usr/local/lib/python3.11/dist-packages (from phidata==2.7.10->-r /content/requirements.txt (line 1)) (0.15.1)\n",
            "Requirement already satisfied: typing-extensions in /usr/local/lib/python3.11/dist-packages (from phidata==2.7.10->-r /content/requirements.txt (line 1)) (4.12.2)\n",
            "Requirement already satisfied: altair<6,>=4.0 in /usr/local/lib/python3.11/dist-packages (from streamlit==1.42.0->-r /content/requirements.txt (line 4)) (5.5.0)\n",
            "Requirement already satisfied: blinker<2,>=1.0.0 in /usr/local/lib/python3.11/dist-packages (from streamlit==1.42.0->-r /content/requirements.txt (line 4)) (1.9.0)\n",
            "Requirement already satisfied: cachetools<6,>=4.0 in /usr/local/lib/python3.11/dist-packages (from streamlit==1.42.0->-r /content/requirements.txt (line 4)) (5.5.1)\n",
            "Requirement already satisfied: click<9,>=7.0 in /usr/local/lib/python3.11/dist-packages (from streamlit==1.42.0->-r /content/requirements.txt (line 4)) (8.1.8)\n",
            "Requirement already satisfied: numpy<3,>=1.23 in /usr/local/lib/python3.11/dist-packages (from streamlit==1.42.0->-r /content/requirements.txt (line 4)) (1.26.4)\n",
            "Requirement already satisfied: packaging<25,>=20 in /usr/local/lib/python3.11/dist-packages (from streamlit==1.42.0->-r /content/requirements.txt (line 4)) (24.2)\n",
            "Requirement already satisfied: pandas<3,>=1.4.0 in /usr/local/lib/python3.11/dist-packages (from streamlit==1.42.0->-r /content/requirements.txt (line 4)) (2.2.2)\n",
            "Requirement already satisfied: pillow<12,>=7.1.0 in /usr/local/lib/python3.11/dist-packages (from streamlit==1.42.0->-r /content/requirements.txt (line 4)) (11.1.0)\n",
            "Requirement already satisfied: pyarrow>=7.0 in /usr/local/lib/python3.11/dist-packages (from streamlit==1.42.0->-r /content/requirements.txt (line 4)) (17.0.0)\n",
            "Requirement already satisfied: requests<3,>=2.27 in /usr/local/lib/python3.11/dist-packages (from streamlit==1.42.0->-r /content/requirements.txt (line 4)) (2.32.3)\n",
            "Requirement already satisfied: tenacity<10,>=8.1.0 in /usr/local/lib/python3.11/dist-packages (from streamlit==1.42.0->-r /content/requirements.txt (line 4)) (9.0.0)\n",
            "Requirement already satisfied: toml<2,>=0.10.1 in /usr/local/lib/python3.11/dist-packages (from streamlit==1.42.0->-r /content/requirements.txt (line 4)) (0.10.2)\n",
            "Requirement already satisfied: watchdog<7,>=2.1.5 in /usr/local/lib/python3.11/dist-packages (from streamlit==1.42.0->-r /content/requirements.txt (line 4)) (6.0.0)\n",
            "Requirement already satisfied: pydeck<1,>=0.8.0b4 in /usr/local/lib/python3.11/dist-packages (from streamlit==1.42.0->-r /content/requirements.txt (line 4)) (0.9.1)\n",
            "Requirement already satisfied: tornado<7,>=6.0.3 in /usr/local/lib/python3.11/dist-packages (from streamlit==1.42.0->-r /content/requirements.txt (line 4)) (6.4.2)\n",
            "Requirement already satisfied: jinja2 in /usr/local/lib/python3.11/dist-packages (from altair<6,>=4.0->streamlit==1.42.0->-r /content/requirements.txt (line 4)) (3.1.5)\n",
            "Requirement already satisfied: jsonschema>=3.0 in /usr/local/lib/python3.11/dist-packages (from altair<6,>=4.0->streamlit==1.42.0->-r /content/requirements.txt (line 4)) (4.23.0)\n",
            "Requirement already satisfied: narwhals>=1.14.2 in /usr/local/lib/python3.11/dist-packages (from altair<6,>=4.0->streamlit==1.42.0->-r /content/requirements.txt (line 4)) (1.26.0)\n",
            "Requirement already satisfied: gitdb<5,>=4.0.1 in /usr/local/lib/python3.11/dist-packages (from gitpython->phidata==2.7.10->-r /content/requirements.txt (line 1)) (4.0.12)\n",
            "Requirement already satisfied: python-dateutil>=2.8.2 in /usr/local/lib/python3.11/dist-packages (from pandas<3,>=1.4.0->streamlit==1.42.0->-r /content/requirements.txt (line 4)) (2.8.2)\n",
            "Requirement already satisfied: pytz>=2020.1 in /usr/local/lib/python3.11/dist-packages (from pandas<3,>=1.4.0->streamlit==1.42.0->-r /content/requirements.txt (line 4)) (2025.1)\n",
            "Requirement already satisfied: tzdata>=2022.7 in /usr/local/lib/python3.11/dist-packages (from pandas<3,>=1.4.0->streamlit==1.42.0->-r /content/requirements.txt (line 4)) (2025.1)\n",
            "Requirement already satisfied: charset-normalizer<4,>=2 in /usr/local/lib/python3.11/dist-packages (from requests<3,>=2.27->streamlit==1.42.0->-r /content/requirements.txt (line 4)) (3.4.1)\n",
            "Requirement already satisfied: idna<4,>=2.5 in /usr/local/lib/python3.11/dist-packages (from requests<3,>=2.27->streamlit==1.42.0->-r /content/requirements.txt (line 4)) (3.10)\n",
            "Requirement already satisfied: urllib3<3,>=1.21.1 in /usr/local/lib/python3.11/dist-packages (from requests<3,>=2.27->streamlit==1.42.0->-r /content/requirements.txt (line 4)) (2.3.0)\n",
            "Requirement already satisfied: certifi>=2017.4.17 in /usr/local/lib/python3.11/dist-packages (from requests<3,>=2.27->streamlit==1.42.0->-r /content/requirements.txt (line 4)) (2025.1.31)\n",
            "Requirement already satisfied: markdown-it-py>=2.2.0 in /usr/local/lib/python3.11/dist-packages (from rich->phidata==2.7.10->-r /content/requirements.txt (line 1)) (3.0.0)\n",
            "Requirement already satisfied: pygments<3.0.0,>=2.13.0 in /usr/local/lib/python3.11/dist-packages (from rich->phidata==2.7.10->-r /content/requirements.txt (line 1)) (2.18.0)\n",
            "Requirement already satisfied: anyio in /usr/local/lib/python3.11/dist-packages (from httpx->phidata==2.7.10->-r /content/requirements.txt (line 1)) (3.7.1)\n",
            "Requirement already satisfied: httpcore==1.* in /usr/local/lib/python3.11/dist-packages (from httpx->phidata==2.7.10->-r /content/requirements.txt (line 1)) (1.0.7)\n",
            "Requirement already satisfied: h11<0.15,>=0.13 in /usr/local/lib/python3.11/dist-packages (from httpcore==1.*->httpx->phidata==2.7.10->-r /content/requirements.txt (line 1)) (0.14.0)\n",
            "Requirement already satisfied: annotated-types>=0.6.0 in /usr/local/lib/python3.11/dist-packages (from pydantic->phidata==2.7.10->-r /content/requirements.txt (line 1)) (0.7.0)\n",
            "Requirement already satisfied: pydantic-core==2.27.2 in /usr/local/lib/python3.11/dist-packages (from pydantic->phidata==2.7.10->-r /content/requirements.txt (line 1)) (2.27.2)\n",
            "Requirement already satisfied: shellingham>=1.3.0 in /usr/local/lib/python3.11/dist-packages (from typer->phidata==2.7.10->-r /content/requirements.txt (line 1)) (1.5.4)\n",
            "Requirement already satisfied: smmap<6,>=3.0.1 in /usr/local/lib/python3.11/dist-packages (from gitdb<5,>=4.0.1->gitpython->phidata==2.7.10->-r /content/requirements.txt (line 1)) (5.0.2)\n",
            "Requirement already satisfied: MarkupSafe>=2.0 in /usr/local/lib/python3.11/dist-packages (from jinja2->altair<6,>=4.0->streamlit==1.42.0->-r /content/requirements.txt (line 4)) (3.0.2)\n",
            "Requirement already satisfied: attrs>=22.2.0 in /usr/local/lib/python3.11/dist-packages (from jsonschema>=3.0->altair<6,>=4.0->streamlit==1.42.0->-r /content/requirements.txt (line 4)) (25.1.0)\n",
            "Requirement already satisfied: jsonschema-specifications>=2023.03.6 in /usr/local/lib/python3.11/dist-packages (from jsonschema>=3.0->altair<6,>=4.0->streamlit==1.42.0->-r /content/requirements.txt (line 4)) (2024.10.1)\n",
            "Requirement already satisfied: referencing>=0.28.4 in /usr/local/lib/python3.11/dist-packages (from jsonschema>=3.0->altair<6,>=4.0->streamlit==1.42.0->-r /content/requirements.txt (line 4)) (0.36.2)\n",
            "Requirement already satisfied: rpds-py>=0.7.1 in /usr/local/lib/python3.11/dist-packages (from jsonschema>=3.0->altair<6,>=4.0->streamlit==1.42.0->-r /content/requirements.txt (line 4)) (0.22.3)\n",
            "Requirement already satisfied: mdurl~=0.1 in /usr/local/lib/python3.11/dist-packages (from markdown-it-py>=2.2.0->rich->phidata==2.7.10->-r /content/requirements.txt (line 1)) (0.1.2)\n",
            "Requirement already satisfied: six>=1.5 in /usr/local/lib/python3.11/dist-packages (from python-dateutil>=2.8.2->pandas<3,>=1.4.0->streamlit==1.42.0->-r /content/requirements.txt (line 4)) (1.17.0)\n",
            "Requirement already satisfied: sniffio>=1.1 in /usr/local/lib/python3.11/dist-packages (from anyio->httpx->phidata==2.7.10->-r /content/requirements.txt (line 1)) (1.3.1)\n",
            "Downloading protobuf-5.29.3-cp38-abi3-manylinux2014_x86_64.whl (319 kB)\n",
            "\u001b[2K   \u001b[90m━━━━━━━━━━━━━━━━━━━━━━━━━━━━━━━━━━━━━━━━\u001b[0m \u001b[32m319.7/319.7 kB\u001b[0m \u001b[31m4.9 MB/s\u001b[0m eta \u001b[36m0:00:00\u001b[0m\n",
            "\u001b[?25hInstalling collected packages: protobuf\n",
            "  Attempting uninstall: protobuf\n",
            "    Found existing installation: protobuf 4.25.6\n",
            "    Uninstalling protobuf-4.25.6:\n",
            "      Successfully uninstalled protobuf-4.25.6\n",
            "Successfully installed protobuf-5.29.3\n"
          ]
        }
      ],
      "source": [
        "!pip install -r \"/content/requirements.txt\""
      ]
    },
    {
      "cell_type": "markdown",
      "source": [
        "**Streamlit UI Development and Model Deployment:**"
      ],
      "metadata": {
        "id": "m4PIC8kG2z98"
      }
    },
    {
      "cell_type": "code",
      "source": [
        "%%writefile app.py\n",
        "\n",
        "# imports\n",
        "import streamlit as st\n",
        "from phi.agent import Agent\n",
        "from phi.model.google import Gemini\n",
        "from phi.tools.duckduckgo import DuckDuckGo\n",
        "from google.generativeai import upload_file, get_file\n",
        "import google.generativeai as genai\n",
        "import time\n",
        "from pathlib import Path\n",
        "import tempfile\n",
        "from dotenv import load_dotenv\n",
        "load_dotenv()\n",
        "import os\n",
        "\n",
        "# Store the gemini api key\n",
        "GOOGLE_API_KEY=\"YOUR GEMINI API KEY\"\n",
        "\n",
        "# Set Google API key\n",
        "os.environ['GOOGLE_API_KEY'] = GOOGLE_API_KEY\n",
        "\n",
        "# Configure Google Gemini API\n",
        "genai.configure(api_key=os.environ['GOOGLE_API_KEY'])\n",
        "\n",
        "\n",
        "\n",
        "# Page configuration\n",
        "st.set_page_config(\n",
        "    page_title='AI-Powered Video Analyzer',\n",
        "    page_icon='🤖',\n",
        "    layout='wide'\n",
        ")\n",
        "\n",
        "st.title(\"Smart Video Analyzer 🧠🎥\")\n",
        "st.header(\"Analyze, Understand, and Extract Insights from Videos — AI-Driven Video Intelligence at Your Fingertips.\")\n",
        "\n",
        "@st.cache_resource\n",
        "# Initialize the AI agent\n",
        "def initialize_agent():\n",
        "  return Agent(\n",
        "      name='AI Video Analyzer',\n",
        "      model=Gemini(id=\"gemini-2.0-flash-exp\"),\n",
        "      tools=[DuckDuckGo()],\n",
        "      markdown=True\n",
        "\n",
        "  )\n",
        "\n",
        "multimodal_Agent=initialize_agent()\n",
        "\n",
        "\n",
        "# File uploader\n",
        "video_file=st.file_uploader(\n",
        "    \"Upload a video file\",\n",
        "    type=[\"mp4\",\"mov\",\"avi\"],\n",
        "    help=\"Upload a video for AI analysis\"\n",
        "\n",
        "\n",
        ")\n",
        "\n",
        "if video_file:\n",
        "    with tempfile.NamedTemporaryFile(delete=False, suffix='.mp4') as temp_video:\n",
        "      temp_video.write(video_file.read())\n",
        "      video_path=temp_video.name\n",
        "\n",
        "    st.video(video_path, format='video/mp4', start_time=0)\n",
        "\n",
        "    user_query=st.text_area(\n",
        "      \"What insights are you seeking from the video?\",\n",
        "      placeholder='Ask anything about the video content. The AI agent will analyze and gather additional context if needed.',\n",
        "      help=\"Provide specific questions or insights you want from the video.\"\n",
        "   )\n",
        "\n",
        "    if st.button(\"🔍 Analyze Video\", key=\"analyze_video_button\"):\n",
        "\n",
        "      if not user_query:\n",
        "        st.warning(\"Please enter a question or ask for insights.\")\n",
        "      else:\n",
        "\n",
        "        try:\n",
        "          with st.spinner(\"Processing video and gathering insights...\"):\n",
        "            # Upload and process video file\n",
        "            processed_video= upload_file(video_path)\n",
        "            while processed_video.state.name=='PROCESSING':\n",
        "              time.sleep(1)\n",
        "              processed_video=get_file(processed_video.name)\n",
        "\n",
        "\n",
        "            # Prompt generation for analysis\n",
        "            analysis_prompt=(\n",
        "                f\"\"\"\n",
        "                Analyze the uploaded video for content and context.\n",
        "                Respond to the following query using video insights and supplementary web research:\n",
        "                {user_query}\n",
        "\n",
        "                Provide a detailed, user-friendly, and actionable response.\n",
        "                \"\"\"\n",
        "            )\n",
        "\n",
        "            # AI agent processing\n",
        "            response= multimodal_Agent.run(analysis_prompt, videos=[processed_video])\n",
        "\n",
        "          # Display the result\n",
        "          st.subheader(\"Analysis Result\")\n",
        "          st.markdown(response.content)\n",
        "\n",
        "        except Exception as error:\n",
        "          st.error(f\"An error occurred during analysis: {error}\")\n",
        "        finally:\n",
        "          # Clean up temporary video file\n",
        "          Path(video_path).unlink(missing_ok=True)\n",
        "\n",
        "\n",
        "else:\n",
        "  st.info(\"Upload a video file to begin analysis.\")\n",
        "\n",
        "\n",
        "# Customize text area height\n",
        "st.markdown(\n",
        "    \"\"\"\n",
        "    <style>\n",
        "    .stTextArea textarea {\n",
        "        height: 100px;\n",
        "    }\n",
        "    </style>\n",
        "    \"\"\",\n",
        "    unsafe_allow_html=True\n",
        ")\n",
        "\n",
        "\n"
      ],
      "metadata": {
        "colab": {
          "base_uri": "https://localhost:8080/"
        },
        "id": "xzd_JHwdgvKE",
        "outputId": "af9fd424-7e19-43c2-ecc7-e1cfbde09717"
      },
      "execution_count": 12,
      "outputs": [
        {
          "output_type": "stream",
          "name": "stdout",
          "text": [
            "Overwriting app.py\n"
          ]
        }
      ]
    },
    {
      "cell_type": "markdown",
      "source": [
        "**Install LocalTunnel:**"
      ],
      "metadata": {
        "id": "bA9Z4s-23ugf"
      }
    },
    {
      "cell_type": "code",
      "source": [
        "!npm install localtunnel\n"
      ],
      "metadata": {
        "colab": {
          "base_uri": "https://localhost:8080/"
        },
        "id": "6RW7hwHIrj75",
        "outputId": "d002009a-2d0e-4081-8158-0af3bfa96326"
      },
      "execution_count": 4,
      "outputs": [
        {
          "output_type": "stream",
          "name": "stdout",
          "text": [
            "\u001b[1G\u001b[0K⠙\u001b[1G\u001b[0K⠹\u001b[1G\u001b[0K⠸\u001b[1G\u001b[0K⠼\u001b[1G\u001b[0K⠴\u001b[1G\u001b[0K⠦\u001b[1G\u001b[0K⠧\u001b[1G\u001b[0K⠇\u001b[1G\u001b[0K⠏\u001b[1G\u001b[0K\n",
            "up to date, audited 23 packages in 2s\n",
            "\u001b[1G\u001b[0K⠋\u001b[1G\u001b[0K\n",
            "\u001b[1G\u001b[0K⠋\u001b[1G\u001b[0K3 packages are looking for funding\n",
            "\u001b[1G\u001b[0K⠋\u001b[1G\u001b[0K  run `npm fund` for details\n",
            "\u001b[1G\u001b[0K⠋\u001b[1G\u001b[0K\n",
            "2 \u001b[33m\u001b[1mmoderate\u001b[22m\u001b[39m severity vulnerabilities\n",
            "\n",
            "To address all issues (including breaking changes), run:\n",
            "  npm audit fix --force\n",
            "\n",
            "Run `npm audit` for details.\n",
            "\u001b[1G\u001b[0K⠋\u001b[1G\u001b[0K"
          ]
        }
      ]
    },
    {
      "cell_type": "markdown",
      "source": [
        "**Get the password for the tunnel:**"
      ],
      "metadata": {
        "id": "EidtF3cr3zh3"
      }
    },
    {
      "cell_type": "code",
      "source": [
        "!wget -q -O - ipv4.icanhazip.com  # This will give us the password for local tunnel"
      ],
      "metadata": {
        "colab": {
          "base_uri": "https://localhost:8080/"
        },
        "id": "SYpjsFy6r4St",
        "outputId": "9fc7199f-c699-4ab4-c0b8-91ce318fafcc"
      },
      "execution_count": 5,
      "outputs": [
        {
          "output_type": "stream",
          "name": "stdout",
          "text": [
            "35.201.177.3\n"
          ]
        }
      ]
    },
    {
      "cell_type": "markdown",
      "source": [
        "**Run the Streamlit application:**"
      ],
      "metadata": {
        "id": "avHzryFh34sB"
      }
    },
    {
      "cell_type": "code",
      "source": [
        "!streamlit run app.py & npx localtunnel --port 8501 # This allows us to view our Streamlit application in the web browser"
      ],
      "metadata": {
        "colab": {
          "base_uri": "https://localhost:8080/"
        },
        "id": "Ofqyux41r70G",
        "outputId": "62f00d01-befd-4a7c-d9b6-1485fd47549b"
      },
      "execution_count": 6,
      "outputs": [
        {
          "output_type": "stream",
          "name": "stdout",
          "text": [
            "\n",
            "Collecting usage statistics. To deactivate, set browser.gatherUsageStats to false.\n",
            "\u001b[0m\n",
            "\u001b[1G\u001b[0K⠙\u001b[1G\u001b[0K⠹\u001b[1G\u001b[0K\u001b[0m\n",
            "\u001b[34m\u001b[1m  You can now view your Streamlit app in your browser.\u001b[0m\n",
            "\u001b[0m\n",
            "\u001b[34m  Local URL: \u001b[0m\u001b[1mhttp://localhost:8501\u001b[0m\n",
            "\u001b[34m  Network URL: \u001b[0m\u001b[1mhttp://172.28.0.12:8501\u001b[0m\n",
            "\u001b[34m  External URL: \u001b[0m\u001b[1mhttp://35.201.177.3:8501\u001b[0m\n",
            "\u001b[0m\n",
            "your url is: https://cyan-sites-wink.loca.lt\n",
            "\u001b[34m  Stopping...\u001b[0m\n",
            "^C\n"
          ]
        }
      ]
    },
    {
      "cell_type": "code",
      "source": [],
      "metadata": {
        "id": "GvqH8J3vziyQ"
      },
      "execution_count": null,
      "outputs": []
    }
  ]
}